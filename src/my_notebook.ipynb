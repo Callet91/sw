{
 "metadata": {
  "language_info": {
   "codemirror_mode": {
    "name": "ipython",
    "version": 3
   },
   "file_extension": ".py",
   "mimetype": "text/x-python",
   "name": "python",
   "nbconvert_exporter": "python",
   "pygments_lexer": "ipython3",
   "version": "3.8.5-final"
  },
  "orig_nbformat": 2,
  "kernelspec": {
   "name": "python3",
   "display_name": "Python 3.8.5 64-bit ('venv')",
   "metadata": {
    "interpreter": {
     "hash": "dbca80a896c2703cb73d8aa5d94020e1f4bfb9b41a68d9aabda164472ff3ec82"
    }
   }
  }
 },
 "nbformat": 4,
 "nbformat_minor": 2,
 "cells": [
  {
   "cell_type": "code",
   "execution_count": 2,
   "metadata": {},
   "outputs": [],
   "source": [
    "# Import modules\n",
    "from src.model import ExampleModel\n",
    "from src.configs.config import example_config\n",
    "from src.utils.helpers import MNISTdataset as Dataset\n",
    "\n",
    "\n"
   ]
  },
  {
   "cell_type": "code",
   "execution_count": 3,
   "metadata": {},
   "outputs": [],
   "source": [
    "# Create model object\n",
    "my_model = ExampleModel(example_config)\n"
   ]
  },
  {
   "cell_type": "code",
   "execution_count": 4,
   "metadata": {},
   "outputs": [],
   "source": [
    "# Extract dataset \n",
    "my_dataset = Dataset()\n",
    "\n",
    "train_x = my_dataset.TRAIN_DS[0]\n",
    "train_y = my_dataset.TRAIN_DS[1]\n",
    "val_x = my_dataset.VAL_DS[0]\n",
    "val_y = my_dataset.VAL_DS[1]"
   ]
  },
  {
   "cell_type": "code",
   "execution_count": 20,
   "metadata": {},
   "outputs": [
    {
     "output_type": "stream",
     "name": "stdout",
     "text": [
      "(None, 28, 28)\n28\n"
     ]
    }
   ],
   "source": [
    "# Generate, compile and train model\n",
    "\n",
    "my_model.generate_model()\n",
    "my_model.compile()\n",
    "\n",
    "my_model.train_model(train_x, train_y, val_x, val_y)"
   ]
  }
 ]
}